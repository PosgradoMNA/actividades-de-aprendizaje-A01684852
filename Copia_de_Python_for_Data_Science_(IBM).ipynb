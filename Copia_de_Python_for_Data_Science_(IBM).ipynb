{
  "cells": [
    {
      "cell_type": "markdown",
      "metadata": {
        "id": "view-in-github",
        "colab_type": "text"
      },
      "source": [
        "<a href=\"https://colab.research.google.com/github/PosgradoMNA/actividades-de-aprendizaje-A01684852/blob/main/Copia_de_Python_for_Data_Science_(IBM).ipynb\" target=\"_parent\"><img src=\"https://colab.research.google.com/assets/colab-badge.svg\" alt=\"Open In Colab\"/></a>"
      ]
    },
    {
      "cell_type": "code",
      "execution_count": null,
      "metadata": {
        "colab": {
          "base_uri": "https://localhost:8080/"
        },
        "id": "Q25m22vhz3p2",
        "outputId": "fc97d114-fd4a-45c9-bc74-f165ba427740"
      },
      "outputs": [
        {
          "name": "stdout",
          "output_type": "stream",
          "text": [
            "Hello Pyton 101\n"
          ]
        }
      ],
      "source": [
        "#Print Hello Python 101\n",
        "print(\"Hello Pyton 101\")"
      ]
    },
    {
      "cell_type": "markdown",
      "metadata": {
        "id": "JyOaF9Fu09wZ"
      },
      "source": []
    },
    {
      "cell_type": "code",
      "execution_count": null,
      "metadata": {
        "colab": {
          "base_uri": "https://localhost:8080/"
        },
        "id": "OpkeUmmE1Ww2",
        "outputId": "e7ff3ae5-c074-40b7-8f62-91673f5d7435"
      },
      "outputs": [
        {
          "name": "stdout",
          "output_type": "stream",
          "text": [
            "Hello\n",
            "World!\n"
          ]
        }
      ],
      "source": [
        "print(\"Hello\\nWorld!\")"
      ]
    },
    {
      "cell_type": "code",
      "execution_count": null,
      "metadata": {
        "colab": {
          "base_uri": "https://localhost:8080/"
        },
        "id": "EmDaJ57w1rGg",
        "outputId": "ca4ad822-a262-49bd-e99c-bd22b057a1c6"
      },
      "outputs": [
        {
          "data": {
            "text/plain": [
              "str"
            ]
          },
          "execution_count": 4,
          "metadata": {},
          "output_type": "execute_result"
        }
      ],
      "source": [
        "type(\"Hello\")"
      ]
    },
    {
      "cell_type": "code",
      "execution_count": null,
      "metadata": {
        "colab": {
          "base_uri": "https://localhost:8080/"
        },
        "id": "LYTvgI3E1vDV",
        "outputId": "b94bc4fc-e6ff-4c1a-c3bd-e91d667afc52"
      },
      "outputs": [
        {
          "data": {
            "text/plain": [
              "int"
            ]
          },
          "execution_count": 5,
          "metadata": {},
          "output_type": "execute_result"
        }
      ],
      "source": [
        "type(11)"
      ]
    },
    {
      "cell_type": "code",
      "execution_count": null,
      "metadata": {
        "colab": {
          "base_uri": "https://localhost:8080/"
        },
        "id": "hNBAV0VY1zRC",
        "outputId": "fcc83fc9-4cb1-4dc4-8546-d764912bab23"
      },
      "outputs": [
        {
          "data": {
            "text/plain": [
              "float"
            ]
          },
          "execution_count": 6,
          "metadata": {},
          "output_type": "execute_result"
        }
      ],
      "source": [
        "type(12.12)"
      ]
    },
    {
      "cell_type": "code",
      "execution_count": null,
      "metadata": {
        "colab": {
          "background_save": true
        },
        "id": "TJigDjeN2EU3",
        "outputId": "3e23af12-d624-483c-feb0-439485b87a7b"
      },
      "outputs": [
        {
          "data": {
            "text/plain": [
              "2.0"
            ]
          },
          "execution_count": 7,
          "metadata": {},
          "output_type": "execute_result"
        }
      ],
      "source": [
        "float(2)"
      ]
    },
    {
      "cell_type": "code",
      "source": [],
      "metadata": {
        "id": "CbkiXusL3QqH"
      },
      "execution_count": null,
      "outputs": []
    },
    {
      "cell_type": "markdown",
      "source": [
        "# Module 2 - Python Data Sctructures"
      ],
      "metadata": {
        "id": "IRF08qvi3ROz"
      }
    },
    {
      "cell_type": "markdown",
      "source": [
        "## Tuples and lists\n",
        "Pueden ser str, int & float, pero el tipo de la variable es tuple\n",
        "Se guardan entre paréntesis y cada elemento puede ser consultado por índice, en este caso los tuples empiezan en 0"
      ],
      "metadata": {
        "id": "6DAmfm8W3gfS"
      }
    },
    {
      "cell_type": "code",
      "source": [
        "Tuple1 = (\"disco\", 10,1.2)\n",
        "Tuple1[0]"
      ],
      "metadata": {
        "id": "Fxxev3jS3jJu",
        "outputId": "c0c72307-c81e-4494-f248-6bbf5110fd67",
        "colab": {
          "base_uri": "https://localhost:8080/",
          "height": 35
        }
      },
      "execution_count": null,
      "outputs": [
        {
          "output_type": "execute_result",
          "data": {
            "text/plain": [
              "'disco'"
            ],
            "application/vnd.google.colaboratory.intrinsic+json": {
              "type": "string"
            }
          },
          "metadata": {},
          "execution_count": 10
        }
      ]
    },
    {
      "cell_type": "code",
      "source": [
        "Tuple1[1]"
      ],
      "metadata": {
        "id": "D-LyxPCX3WKu",
        "outputId": "a1edb068-6b2e-4b03-a4e0-0bc9fc2b94b2",
        "colab": {
          "base_uri": "https://localhost:8080/"
        }
      },
      "execution_count": null,
      "outputs": [
        {
          "output_type": "execute_result",
          "data": {
            "text/plain": [
              "10"
            ]
          },
          "metadata": {},
          "execution_count": 4
        }
      ]
    },
    {
      "cell_type": "code",
      "source": [
        "Tuple1[2]"
      ],
      "metadata": {
        "id": "WwW0JmO04bre",
        "outputId": "71b067f4-6c54-4ee7-c18f-69dbc59ca06a",
        "colab": {
          "base_uri": "https://localhost:8080/"
        }
      },
      "execution_count": null,
      "outputs": [
        {
          "output_type": "execute_result",
          "data": {
            "text/plain": [
              "1.2"
            ]
          },
          "metadata": {},
          "execution_count": 5
        }
      ]
    },
    {
      "cell_type": "markdown",
      "source": [
        "Pueden haber tuples negativos"
      ],
      "metadata": {
        "id": "3ozvuit54t-a"
      }
    },
    {
      "cell_type": "code",
      "source": [
        "Tuple1[-3]"
      ],
      "metadata": {
        "id": "UsMaAl8v4zC-",
        "outputId": "34fda266-39ec-4c5f-fc2c-e96852634b3f",
        "colab": {
          "base_uri": "https://localhost:8080/",
          "height": 35
        }
      },
      "execution_count": null,
      "outputs": [
        {
          "output_type": "execute_result",
          "data": {
            "text/plain": [
              "'disco'"
            ],
            "application/vnd.google.colaboratory.intrinsic+json": {
              "type": "string"
            }
          },
          "metadata": {},
          "execution_count": 11
        }
      ]
    },
    {
      "cell_type": "code",
      "source": [
        "Tuple1[-2]"
      ],
      "metadata": {
        "id": "fonG89b841FN",
        "outputId": "f94e5009-78b1-4392-8ae8-1ef7cbee77e8",
        "colab": {
          "base_uri": "https://localhost:8080/"
        }
      },
      "execution_count": null,
      "outputs": [
        {
          "output_type": "execute_result",
          "data": {
            "text/plain": [
              "10"
            ]
          },
          "metadata": {},
          "execution_count": 12
        }
      ]
    },
    {
      "cell_type": "code",
      "source": [
        "Tuple1[-1]"
      ],
      "metadata": {
        "id": "weJRizgE42Q1",
        "outputId": "7c4cc28a-424b-4531-d371-33e481afa431",
        "colab": {
          "base_uri": "https://localhost:8080/"
        }
      },
      "execution_count": null,
      "outputs": [
        {
          "output_type": "execute_result",
          "data": {
            "text/plain": [
              "1.2"
            ]
          },
          "metadata": {},
          "execution_count": 13
        }
      ]
    },
    {
      "cell_type": "markdown",
      "source": [
        "Se pueden concatenar tupples sumándolos"
      ],
      "metadata": {
        "id": "lgck0bF147Za"
      }
    },
    {
      "cell_type": "code",
      "source": [
        "Tuple2 = Tuple1 + (\"hard rock\",10)\n",
        "Tuple2"
      ],
      "metadata": {
        "id": "MB5lsYeo5Bwu",
        "outputId": "8a27450b-ee8a-4e9c-82ff-b738bddc79b6",
        "colab": {
          "base_uri": "https://localhost:8080/"
        }
      },
      "execution_count": null,
      "outputs": [
        {
          "output_type": "execute_result",
          "data": {
            "text/plain": [
              "('disco', 10, 1.2, 'hard rock', 10)"
            ]
          },
          "metadata": {},
          "execution_count": 16
        }
      ]
    },
    {
      "cell_type": "code",
      "source": [
        "Tuple2[4]"
      ],
      "metadata": {
        "id": "kJDiMBCw439t",
        "outputId": "bf34ff04-b856-4dd2-d665-f52c85789d90",
        "colab": {
          "base_uri": "https://localhost:8080/"
        }
      },
      "execution_count": null,
      "outputs": [
        {
          "output_type": "execute_result",
          "data": {
            "text/plain": [
              "10"
            ]
          },
          "metadata": {},
          "execution_count": 17
        }
      ]
    },
    {
      "cell_type": "markdown",
      "source": [
        "Se pueden separar elementos de los tuples, por ejemplo podemos separar los primeros 3 elementos, o los últimos 2, para separar tuples el último valor que pongamos no se toma en cuenta, ej, si ponemos del 0 al 3 nos regresa los valores de 0, 1 y 2"
      ],
      "metadata": {
        "id": "2oEdY8Oz532V"
      }
    },
    {
      "cell_type": "code",
      "source": [
        "Tuple2"
      ],
      "metadata": {
        "id": "ll49ez9P8Jdq",
        "outputId": "8b7dd060-1592-454c-8dfb-f82d973d809f",
        "colab": {
          "base_uri": "https://localhost:8080/"
        }
      },
      "execution_count": null,
      "outputs": [
        {
          "output_type": "execute_result",
          "data": {
            "text/plain": [
              "('disco', 10, 1.2, 'hard rock', 10)"
            ]
          },
          "metadata": {},
          "execution_count": 22
        }
      ]
    },
    {
      "cell_type": "code",
      "source": [
        "len(Tuple2)"
      ],
      "metadata": {
        "id": "rpYksucQ6je0",
        "outputId": "04184a40-b937-48cf-d569-d7f44a922e15",
        "colab": {
          "base_uri": "https://localhost:8080/"
        }
      },
      "execution_count": null,
      "outputs": [
        {
          "output_type": "execute_result",
          "data": {
            "text/plain": [
              "5"
            ]
          },
          "metadata": {},
          "execution_count": 21
        }
      ]
    },
    {
      "cell_type": "code",
      "source": [
        "Tuple2[0:3]"
      ],
      "metadata": {
        "id": "fDx_PW5a6CyF",
        "outputId": "253d9934-2f78-4109-d4ca-fb6b0a1214f6",
        "colab": {
          "base_uri": "https://localhost:8080/"
        }
      },
      "execution_count": null,
      "outputs": [
        {
          "output_type": "execute_result",
          "data": {
            "text/plain": [
              "('disco', 10, 1.2)"
            ]
          },
          "metadata": {},
          "execution_count": 24
        }
      ]
    },
    {
      "cell_type": "code",
      "source": [
        "Tuple2[3:5]"
      ],
      "metadata": {
        "id": "20eTYRvg52hl",
        "outputId": "0bbede46-3809-48f1-f0a0-563a44565b8d",
        "colab": {
          "base_uri": "https://localhost:8080/"
        }
      },
      "execution_count": null,
      "outputs": [
        {
          "output_type": "execute_result",
          "data": {
            "text/plain": [
              "('hard rock', 10)"
            ]
          },
          "metadata": {},
          "execution_count": 19
        }
      ]
    },
    {
      "cell_type": "markdown",
      "source": [
        "Los tuples son inmutables, es decir que no los podemos cambiar, para manipular ese tuple debemos crear uno nuevo en su lugar, en el siguiente caso, para ordenar un tuple debemos crear un segundo que ya esté ordenado.\n"
      ],
      "metadata": {
        "id": "uaSBNskx9oNV"
      }
    },
    {
      "cell_type": "code",
      "source": [
        "Ratings=(10,9,6,5,10,8,9,6,2)\n",
        "print(Ratings)\n",
        "RatingsSorted=sorted(Ratings)\n",
        "print(RatingsSorted)"
      ],
      "metadata": {
        "id": "tTCRSfFZ9re7",
        "outputId": "2595c630-2618-4f50-d7b3-aef8412b1334",
        "colab": {
          "base_uri": "https://localhost:8080/"
        }
      },
      "execution_count": null,
      "outputs": [
        {
          "output_type": "stream",
          "name": "stdout",
          "text": [
            "(10, 9, 6, 5, 10, 8, 9, 6, 2)\n",
            "[2, 5, 6, 6, 8, 9, 9, 10, 10]\n"
          ]
        }
      ]
    },
    {
      "cell_type": "markdown",
      "source": [
        "Se pueden anidar tuples (Nesting), y la estructura que toma es la siguiente"
      ],
      "metadata": {
        "id": "KBwHfB00NQ_N"
      }
    },
    {
      "cell_type": "code",
      "source": [
        "NT=(1,2,(\"pop\",\"rock\"),(3,4),(\"disco\",(1,2)))\n",
        "print(NT)\n",
        "print(NT[0])\n",
        "print(NT[1])\n",
        "print(NT[2])\n",
        "print(NT[3])\n",
        "print(NT[4])"
      ],
      "metadata": {
        "colab": {
          "base_uri": "https://localhost:8080/"
        },
        "id": "EmWRu-EbNXxT",
        "outputId": "ed169241-f3b0-435b-8ec7-077049039291"
      },
      "execution_count": 3,
      "outputs": [
        {
          "output_type": "stream",
          "name": "stdout",
          "text": [
            "(1, 2, ('pop', 'rock'), (3, 4), ('disco', (1, 2)))\n",
            "1\n",
            "2\n",
            "('pop', 'rock')\n",
            "(3, 4)\n",
            "('disco', (1, 2))\n"
          ]
        }
      ]
    },
    {
      "cell_type": "markdown",
      "source": [
        "Podemos solicitar el segundo elemento de uno de estos tuples anidados, es decir, podemos llamar al \"rock\" de la siguiente manera.\n",
        "Podemos ver los tuples anidados como un árbol"
      ],
      "metadata": {
        "id": "_2hRuD0PN-3P"
      }
    },
    {
      "cell_type": "code",
      "source": [
        "print(NT[2][1])\n",
        "print(NT[3][0])\n",
        "print(NT[4][0])\n"
      ],
      "metadata": {
        "colab": {
          "base_uri": "https://localhost:8080/"
        },
        "id": "nsKOMS-OOIsS",
        "outputId": "5de8a919-7332-4191-b0ce-bb88e46d7b01"
      },
      "execution_count": 5,
      "outputs": [
        {
          "output_type": "stream",
          "name": "stdout",
          "text": [
            "rock\n",
            "3\n",
            "disco\n"
          ]
        }
      ]
    },
    {
      "cell_type": "markdown",
      "source": [
        "También podemos consultar alguna de las letras de rock por ejemplo\n",
        "\n"
      ],
      "metadata": {
        "id": "wMPQyAqDOryO"
      }
    },
    {
      "cell_type": "code",
      "source": [
        "print(NT[2][1][0])\n",
        "print(NT[2][1][1])\n",
        "print(NT[2][1][2])\n",
        "print(NT[2][1][3])"
      ],
      "metadata": {
        "id": "5-6t4zZF-EvD",
        "colab": {
          "base_uri": "https://localhost:8080/"
        },
        "outputId": "b750a38a-c2ea-4443-c3e8-2a0cb53dd39d"
      },
      "execution_count": 7,
      "outputs": [
        {
          "output_type": "stream",
          "name": "stdout",
          "text": [
            "r\n",
            "o\n",
            "c\n",
            "k\n"
          ]
        }
      ]
    },
    {
      "cell_type": "markdown",
      "source": [
        "# Listas"
      ],
      "metadata": {
        "id": "1DB4VWyFO_v9"
      }
    },
    {
      "cell_type": "markdown",
      "source": [
        "Las listas son sequencias ordenadas y se representan entre braquets, la ventaja de estas listas es que son mutables, es decir que se pueden modificar, y pueden ser, strings, floats o integers"
      ],
      "metadata": {
        "id": "hfbgjQ75PGsP"
      }
    },
    {
      "cell_type": "code",
      "source": [
        "L=[\"Michael Jackson\",10.1,1982,\"MJ\",1]\n",
        "print(type(L))\n",
        "print(L)\n",
        "print(L[0])\n",
        "print(L[1])\n",
        "print(L[2])\n",
        "print(L[-3])\n",
        "print(L[-2])\n",
        "print(L[-1])"
      ],
      "metadata": {
        "colab": {
          "base_uri": "https://localhost:8080/"
        },
        "id": "QFHnKsOXPDG7",
        "outputId": "ed9542b2-c2ef-428b-ed0b-cf4fc2b6140e"
      },
      "execution_count": 21,
      "outputs": [
        {
          "output_type": "stream",
          "name": "stdout",
          "text": [
            "<class 'list'>\n",
            "['Michael Jackson', 10.1, 1982, 'MJ', 1]\n",
            "Michael Jackson\n",
            "10.1\n",
            "1982\n",
            "1982\n",
            "MJ\n",
            "1\n"
          ]
        }
      ]
    },
    {
      "cell_type": "markdown",
      "source": [
        "Al igual que los tuples, podemos separar partes de las listas, y al igual que los tuples, el rango no considera el último valor"
      ],
      "metadata": {
        "id": "Kiz17deFP0D4"
      }
    },
    {
      "cell_type": "code",
      "source": [
        "L[3:5]"
      ],
      "metadata": {
        "colab": {
          "base_uri": "https://localhost:8080/"
        },
        "id": "2XEq8wL1PzjJ",
        "outputId": "4ce1c3fa-b487-4f02-ba3d-4b522b8364b6"
      },
      "execution_count": 22,
      "outputs": [
        {
          "output_type": "execute_result",
          "data": {
            "text/plain": [
              "['MJ', 1]"
            ]
          },
          "metadata": {},
          "execution_count": 22
        }
      ]
    },
    {
      "cell_type": "markdown",
      "source": [
        "Igualmente podemos agregar elementos a las listas"
      ],
      "metadata": {
        "id": "ulQotk3gQj5e"
      }
    },
    {
      "cell_type": "code",
      "source": [
        "L1=L+[\"pop\",10]\n",
        "print(L1)"
      ],
      "metadata": {
        "colab": {
          "base_uri": "https://localhost:8080/"
        },
        "id": "_OASHrsyQpWH",
        "outputId": "102121b2-dbae-497d-de85-f285c2cdda3c"
      },
      "execution_count": 24,
      "outputs": [
        {
          "output_type": "stream",
          "name": "stdout",
          "text": [
            "['Michael Jackson', 10.1, 1982, 'MJ', 1, 'pop', 10]\n"
          ]
        }
      ]
    },
    {
      "cell_type": "markdown",
      "source": [
        "Aquí una de las ventajas es que las listas son mutables, y en lugar de requerir crear una lista nueva, podemos extenderlas con el siguiente comando"
      ],
      "metadata": {
        "id": "_tbsTwrxQ6cd"
      }
    },
    {
      "cell_type": "code",
      "source": [
        "L.extend([\"pop\",10])\n",
        "print(L)"
      ],
      "metadata": {
        "colab": {
          "base_uri": "https://localhost:8080/"
        },
        "id": "lcUJLM7QRBXR",
        "outputId": "7e526e7a-abd8-4538-b6f7-4e183bcc782a"
      },
      "execution_count": 26,
      "outputs": [
        {
          "output_type": "stream",
          "name": "stdout",
          "text": [
            "['Michael Jackson', 10.1, 1982, 'MJ', 1, 'pop', 10]\n"
          ]
        }
      ]
    },
    {
      "cell_type": "markdown",
      "source": [
        "si usamos el comando append, se agregarían las nuevas variables dentro de un mismo índice "
      ],
      "metadata": {
        "id": "_MUhOdasRQYV"
      }
    },
    {
      "cell_type": "code",
      "source": [
        "L=[\"Michael Jackson\",10.1,1982]\n",
        "L.append([\"pop\",10])\n",
        "print(L)\n",
        "print(L[3])"
      ],
      "metadata": {
        "colab": {
          "base_uri": "https://localhost:8080/"
        },
        "id": "cHFSkKCwRg_i",
        "outputId": "4050170c-c5e6-47f2-ffd3-2c526886a97b"
      },
      "execution_count": 31,
      "outputs": [
        {
          "output_type": "stream",
          "name": "stdout",
          "text": [
            "['Michael Jackson', 10.1, 1982, ['pop', 10]]\n",
            "['pop', 10]\n"
          ]
        }
      ]
    },
    {
      "cell_type": "markdown",
      "source": [
        "Como las listas son mutables, podemos cambiarla, por ejemplo"
      ],
      "metadata": {
        "id": "R9G0lR1dSMj_"
      }
    },
    {
      "cell_type": "code",
      "source": [
        "A=[\"disco\",10,1.2]\n",
        "print(A)\n",
        "A[0]=\"hard rock\"\n",
        "print(A)"
      ],
      "metadata": {
        "colab": {
          "base_uri": "https://localhost:8080/"
        },
        "id": "wtaKG1KdSPSB",
        "outputId": "436cdb36-cb11-4d49-a641-d940193d3ab8"
      },
      "execution_count": 33,
      "outputs": [
        {
          "output_type": "stream",
          "name": "stdout",
          "text": [
            "['disco', 10, 1.2]\n",
            "['hard rock', 10, 1.2]\n"
          ]
        }
      ]
    },
    {
      "cell_type": "markdown",
      "source": [
        "Podemos borrar algún elemento con el comando del"
      ],
      "metadata": {
        "id": "rY7rf3a6ScZb"
      }
    },
    {
      "cell_type": "code",
      "source": [
        "A=['hard rock', 10, 1.2]\n",
        "print(A)\n",
        "del(A[0])\n",
        "print(A)\n",
        "del(A[1])\n",
        "print(A)\n"
      ],
      "metadata": {
        "colab": {
          "base_uri": "https://localhost:8080/"
        },
        "id": "iIctlojTSfTo",
        "outputId": "a84d0fc8-8eb1-4370-f82a-780b0b80c76f"
      },
      "execution_count": 37,
      "outputs": [
        {
          "output_type": "stream",
          "name": "stdout",
          "text": [
            "['hard rock', 10, 1.2]\n",
            "[10, 1.2]\n",
            "[10]\n"
          ]
        }
      ]
    },
    {
      "cell_type": "markdown",
      "source": [
        "También se puede separar cualquier elemento de un string en elementos individuales de la lista, por ejemplo vamos a separar la palabra \"hard rock\" en dos elementos de una lista"
      ],
      "metadata": {
        "id": "fN3-p85bS4N9"
      }
    },
    {
      "cell_type": "code",
      "source": [
        "\"hard  rock\".split()"
      ],
      "metadata": {
        "colab": {
          "base_uri": "https://localhost:8080/"
        },
        "id": "j2CJInH1TCvZ",
        "outputId": "6eb39bcf-3f7d-4f1a-af1f-ba6b2954bbe6"
      },
      "execution_count": 38,
      "outputs": [
        {
          "output_type": "execute_result",
          "data": {
            "text/plain": [
              "['hard', 'rock']"
            ]
          },
          "metadata": {},
          "execution_count": 38
        }
      ]
    },
    {
      "cell_type": "markdown",
      "source": [
        "También podemos separar elementos con delimitadores, en este caso vamos a separar todo lo que esté después de una coma"
      ],
      "metadata": {
        "id": "DcuvJgQ2TMEf"
      }
    },
    {
      "cell_type": "code",
      "source": [
        "\"A,B,C,D\".split(\",\")"
      ],
      "metadata": {
        "colab": {
          "base_uri": "https://localhost:8080/"
        },
        "id": "elStkkHMTRu4",
        "outputId": "76b2e829-93e4-4850-91a7-a85f0b02c701"
      },
      "execution_count": 39,
      "outputs": [
        {
          "output_type": "execute_result",
          "data": {
            "text/plain": [
              "['A', 'B', 'C', 'D']"
            ]
          },
          "metadata": {},
          "execution_count": 39
        }
      ]
    },
    {
      "cell_type": "markdown",
      "source": [
        "## Aliasing"
      ],
      "metadata": {
        "id": "WYkWpsv-TsEf"
      }
    },
    {
      "cell_type": "markdown",
      "source": [
        "Si ponemos A=B ambos elementoos tendrán la misma información, a esto se le conoce como Aliasing"
      ],
      "metadata": {
        "id": "Lz5G3BvdTmCd"
      }
    },
    {
      "cell_type": "code",
      "source": [
        "A=[\"hard rock\",10,1.2]\n",
        "B=A\n",
        "print(A)\n",
        "print(B)\n",
        "print(B[0])\n",
        "A[0]=\"banana\"\n",
        "print(B)"
      ],
      "metadata": {
        "colab": {
          "base_uri": "https://localhost:8080/"
        },
        "id": "QUaCKnAcT19m",
        "outputId": "c3a54dad-1046-4599-946c-b59d17034ad4"
      },
      "execution_count": 43,
      "outputs": [
        {
          "output_type": "stream",
          "name": "stdout",
          "text": [
            "['hard rock', 10, 1.2]\n",
            "['hard rock', 10, 1.2]\n",
            "hard rock\n",
            "['banana', 10, 1.2]\n"
          ]
        }
      ]
    },
    {
      "cell_type": "markdown",
      "source": [
        "Para evitar esto, podemos clonar la variable A y que sean independientes, para esto se usan [:], aquí si cambiamos A, ya no cambiará B"
      ],
      "metadata": {
        "id": "QdRvVaOVUk7m"
      }
    },
    {
      "cell_type": "code",
      "source": [
        "A=[\"hard rock\",10,1.2]\n",
        "B=A[:]\n",
        "print(B)\n",
        "print(A)"
      ],
      "metadata": {
        "colab": {
          "base_uri": "https://localhost:8080/"
        },
        "id": "u36go9nPUt7V",
        "outputId": "88452e10-a48b-49d4-c2f1-9098f7ba5244"
      },
      "execution_count": 48,
      "outputs": [
        {
          "output_type": "stream",
          "name": "stdout",
          "text": [
            "['hard rock', 10, 1.2]\n",
            "['hard rock', 10, 1.2]\n"
          ]
        }
      ]
    },
    {
      "cell_type": "markdown",
      "source": [
        "#help"
      ],
      "metadata": {
        "id": "UmtnTiILVLyx"
      }
    },
    {
      "cell_type": "markdown",
      "source": [
        "Podemos obtener ayuda en python con el comando help"
      ],
      "metadata": {
        "id": "JF964iMEVNao"
      }
    },
    {
      "cell_type": "code",
      "source": [
        "help(A)"
      ],
      "metadata": {
        "colab": {
          "base_uri": "https://localhost:8080/"
        },
        "id": "UidqcejLVQLZ",
        "outputId": "e89255ff-7607-49bd-e867-e46d2e294bc9"
      },
      "execution_count": 49,
      "outputs": [
        {
          "output_type": "stream",
          "name": "stdout",
          "text": [
            "Help on list object:\n",
            "\n",
            "class list(object)\n",
            " |  list(iterable=(), /)\n",
            " |  \n",
            " |  Built-in mutable sequence.\n",
            " |  \n",
            " |  If no argument is given, the constructor creates a new empty list.\n",
            " |  The argument must be an iterable if specified.\n",
            " |  \n",
            " |  Methods defined here:\n",
            " |  \n",
            " |  __add__(self, value, /)\n",
            " |      Return self+value.\n",
            " |  \n",
            " |  __contains__(self, key, /)\n",
            " |      Return key in self.\n",
            " |  \n",
            " |  __delitem__(self, key, /)\n",
            " |      Delete self[key].\n",
            " |  \n",
            " |  __eq__(self, value, /)\n",
            " |      Return self==value.\n",
            " |  \n",
            " |  __ge__(self, value, /)\n",
            " |      Return self>=value.\n",
            " |  \n",
            " |  __getattribute__(self, name, /)\n",
            " |      Return getattr(self, name).\n",
            " |  \n",
            " |  __getitem__(...)\n",
            " |      x.__getitem__(y) <==> x[y]\n",
            " |  \n",
            " |  __gt__(self, value, /)\n",
            " |      Return self>value.\n",
            " |  \n",
            " |  __iadd__(self, value, /)\n",
            " |      Implement self+=value.\n",
            " |  \n",
            " |  __imul__(self, value, /)\n",
            " |      Implement self*=value.\n",
            " |  \n",
            " |  __init__(self, /, *args, **kwargs)\n",
            " |      Initialize self.  See help(type(self)) for accurate signature.\n",
            " |  \n",
            " |  __iter__(self, /)\n",
            " |      Implement iter(self).\n",
            " |  \n",
            " |  __le__(self, value, /)\n",
            " |      Return self<=value.\n",
            " |  \n",
            " |  __len__(self, /)\n",
            " |      Return len(self).\n",
            " |  \n",
            " |  __lt__(self, value, /)\n",
            " |      Return self<value.\n",
            " |  \n",
            " |  __mul__(self, value, /)\n",
            " |      Return self*value.\n",
            " |  \n",
            " |  __ne__(self, value, /)\n",
            " |      Return self!=value.\n",
            " |  \n",
            " |  __repr__(self, /)\n",
            " |      Return repr(self).\n",
            " |  \n",
            " |  __reversed__(self, /)\n",
            " |      Return a reverse iterator over the list.\n",
            " |  \n",
            " |  __rmul__(self, value, /)\n",
            " |      Return value*self.\n",
            " |  \n",
            " |  __setitem__(self, key, value, /)\n",
            " |      Set self[key] to value.\n",
            " |  \n",
            " |  __sizeof__(self, /)\n",
            " |      Return the size of the list in memory, in bytes.\n",
            " |  \n",
            " |  append(self, object, /)\n",
            " |      Append object to the end of the list.\n",
            " |  \n",
            " |  clear(self, /)\n",
            " |      Remove all items from list.\n",
            " |  \n",
            " |  copy(self, /)\n",
            " |      Return a shallow copy of the list.\n",
            " |  \n",
            " |  count(self, value, /)\n",
            " |      Return number of occurrences of value.\n",
            " |  \n",
            " |  extend(self, iterable, /)\n",
            " |      Extend list by appending elements from the iterable.\n",
            " |  \n",
            " |  index(self, value, start=0, stop=9223372036854775807, /)\n",
            " |      Return first index of value.\n",
            " |      \n",
            " |      Raises ValueError if the value is not present.\n",
            " |  \n",
            " |  insert(self, index, object, /)\n",
            " |      Insert object before index.\n",
            " |  \n",
            " |  pop(self, index=-1, /)\n",
            " |      Remove and return item at index (default last).\n",
            " |      \n",
            " |      Raises IndexError if list is empty or index is out of range.\n",
            " |  \n",
            " |  remove(self, value, /)\n",
            " |      Remove first occurrence of value.\n",
            " |      \n",
            " |      Raises ValueError if the value is not present.\n",
            " |  \n",
            " |  reverse(self, /)\n",
            " |      Reverse *IN PLACE*.\n",
            " |  \n",
            " |  sort(self, /, *, key=None, reverse=False)\n",
            " |      Stable sort *IN PLACE*.\n",
            " |  \n",
            " |  ----------------------------------------------------------------------\n",
            " |  Static methods defined here:\n",
            " |  \n",
            " |  __new__(*args, **kwargs) from builtins.type\n",
            " |      Create and return a new object.  See help(type) for accurate signature.\n",
            " |  \n",
            " |  ----------------------------------------------------------------------\n",
            " |  Data and other attributes defined here:\n",
            " |  \n",
            " |  __hash__ = None\n",
            "\n"
          ]
        }
      ]
    },
    {
      "cell_type": "markdown",
      "source": [
        "# Sets"
      ],
      "metadata": {
        "id": "RxOq706EW7Tg"
      }
    },
    {
      "cell_type": "markdown",
      "source": [
        "\n",
        "\n",
        "1.   Los sets son un tipo de collection, significa que pueden contener distintos tipos de types\n",
        "2.   A diferencia de listas y tuples, aquí están en desorden\n",
        "3.   Solamente tienen elementos únicos\n",
        "4.   Para utilizarse se ponen entre brackets\n",
        "\n",
        "Aquí solo integra elementos únicos"
      ],
      "metadata": {
        "id": "kIii54W3W-g1"
      }
    },
    {
      "cell_type": "code",
      "source": [
        "Set1={\"pop\", \"rock\", \"hard rock\", \"rock\", \"R&B\",\"rock\",\"disco\"}\n",
        "Set1"
      ],
      "metadata": {
        "colab": {
          "base_uri": "https://localhost:8080/"
        },
        "id": "3RQAKO4hVilI",
        "outputId": "dc26b678-2f56-4359-a95b-1ec65815262d"
      },
      "execution_count": 53,
      "outputs": [
        {
          "output_type": "execute_result",
          "data": {
            "text/plain": [
              "{'R&B', 'disco', 'hard rock', 'pop', 'rock'}"
            ]
          },
          "metadata": {},
          "execution_count": 53
        }
      ]
    },
    {
      "cell_type": "markdown",
      "source": [
        "Puedes hacer Type Casting, que es convertir una lista en un set, aquí no contendrá elementos duplicados"
      ],
      "metadata": {
        "id": "HR3zLj7LYDkU"
      }
    },
    {
      "cell_type": "code",
      "source": [
        "album_list=[\"Michael Jackson\",\"Thriller\",\"Thriller\",1982]\n",
        "print(album_list)\n",
        "album_set=set(album_list)\n",
        "print(album_set)"
      ],
      "metadata": {
        "colab": {
          "base_uri": "https://localhost:8080/"
        },
        "id": "PfsExOjxYGhS",
        "outputId": "1733b8cb-7e11-4f79-a89c-37de556cc692"
      },
      "execution_count": 55,
      "outputs": [
        {
          "output_type": "stream",
          "name": "stdout",
          "text": [
            "['Michael Jackson', 'Thriller', 'Thriller', 1982]\n",
            "{'Thriller', 1982, 'Michael Jackson'}\n"
          ]
        }
      ]
    },
    {
      "cell_type": "markdown",
      "source": [
        "## Operaciones con SET"
      ],
      "metadata": {
        "id": "48VJIAsOYqUh"
      }
    },
    {
      "cell_type": "code",
      "source": [
        "A={\"Thriller\", \"Black in Black\", \"AC/DC\"}\n",
        "print(A)\n",
        "A.add(\"NSYNC\")\n",
        "print(A)\n",
        "A.remove(\"NSYNC\")\n",
        "print(A)"
      ],
      "metadata": {
        "colab": {
          "base_uri": "https://localhost:8080/"
        },
        "id": "gf8QrIP3YtG4",
        "outputId": "ec7d92b6-69b0-410b-ed81-0a9bf5e1ddc7"
      },
      "execution_count": 57,
      "outputs": [
        {
          "output_type": "stream",
          "name": "stdout",
          "text": [
            "{'AC/DC', 'Thriller', 'Black in Black'}\n",
            "{'AC/DC', 'Thriller', 'NSYNC', 'Black in Black'}\n",
            "{'AC/DC', 'Thriller', 'Black in Black'}\n"
          ]
        }
      ]
    },
    {
      "cell_type": "markdown",
      "source": [
        "Para verificar si un elemento está en un set se usa la operación in"
      ],
      "metadata": {
        "id": "8qYiC4IfZTpL"
      }
    },
    {
      "cell_type": "code",
      "source": [
        "A={\"Thriller\", \"Black in Black\", \"AC/DC\"}\n",
        "\"AC/DC\" in A"
      ],
      "metadata": {
        "colab": {
          "base_uri": "https://localhost:8080/"
        },
        "id": "Z6y_leZfZXYe",
        "outputId": "391fdfae-8751-47a4-bc24-dee8b35b1400"
      },
      "execution_count": 58,
      "outputs": [
        {
          "output_type": "execute_result",
          "data": {
            "text/plain": [
              "True"
            ]
          },
          "metadata": {},
          "execution_count": 58
        }
      ]
    },
    {
      "cell_type": "code",
      "source": [
        "A={\"Thriller\", \"Black in Black\", \"AC/DC\"}\n",
        "\"Who\" in A"
      ],
      "metadata": {
        "colab": {
          "base_uri": "https://localhost:8080/"
        },
        "id": "KEJkxaGgZeMY",
        "outputId": "b120a13f-3dd2-48b5-a75a-0d2dd515e8ba"
      },
      "execution_count": 59,
      "outputs": [
        {
          "output_type": "execute_result",
          "data": {
            "text/plain": [
              "False"
            ]
          },
          "metadata": {},
          "execution_count": 59
        }
      ]
    },
    {
      "cell_type": "markdown",
      "source": [
        "Hay muchas operaciones matemáticas que podemos utilizar con los sets, por ejemplo si vemos cada set como un diagrama de venn, podremos ver cuáles elementos están en ambos conjuntos con &"
      ],
      "metadata": {
        "id": "5Lb_jHZSZkYA"
      }
    },
    {
      "cell_type": "code",
      "source": [
        "album_set_1={\"AC/DC\", \"Black in Black\", \"Thriller\"}\n",
        "album_set_2={\"AC/DC\", \"Black in Black\", \"The Dark Side of the Moon\"}\n",
        "print(album_set_1)\n",
        "print(album_set_2)\n",
        "album_set_3= album_set_1 & album_set_2\n",
        "print(album_set_3)"
      ],
      "metadata": {
        "colab": {
          "base_uri": "https://localhost:8080/"
        },
        "id": "bepCUUK0ZojP",
        "outputId": "ffc0320d-cb35-436c-d334-2d1ace4fc80d"
      },
      "execution_count": 61,
      "outputs": [
        {
          "output_type": "stream",
          "name": "stdout",
          "text": [
            "{'AC/DC', 'Thriller', 'Black in Black'}\n",
            "{'AC/DC', 'The Dark Side of the Moon', 'Black in Black'}\n",
            "{'AC/DC', 'Black in Black'}\n"
          ]
        }
      ]
    },
    {
      "cell_type": "markdown",
      "source": [
        "Se puede hacer lo mismo para la unión, que son todos los elementos de ambos conjuntos y eso se hace con el comando union"
      ],
      "metadata": {
        "id": "VGA2wWJeaj1i"
      }
    },
    {
      "cell_type": "code",
      "source": [
        "album_set_1={\"AC/DC\", \"Black in Black\", \"Thriller\"}\n",
        "album_set_2={\"AC/DC\", \"Black in Black\", \"The Dark Side of the Moon\"}\n",
        "print(album_set_1)\n",
        "print(album_set_2)\n",
        "album_set_3= album_set_1 & album_set_2\n",
        "print(album_set_3)\n",
        "album_set_1.union(album_set_2)\n",
        "\n",
        "album_set_3.issubset(album_set_1)\n"
      ],
      "metadata": {
        "colab": {
          "base_uri": "https://localhost:8080/"
        },
        "id": "fejGbZ8eaqU1",
        "outputId": "01de8758-df24-4b28-9cf1-a4c7ff6fe12b"
      },
      "execution_count": 66,
      "outputs": [
        {
          "output_type": "stream",
          "name": "stdout",
          "text": [
            "{'AC/DC', 'Thriller', 'Black in Black'}\n",
            "{'AC/DC', 'The Dark Side of the Moon', 'Black in Black'}\n",
            "{'AC/DC', 'Black in Black'}\n"
          ]
        },
        {
          "output_type": "execute_result",
          "data": {
            "text/plain": [
              "True"
            ]
          },
          "metadata": {},
          "execution_count": 66
        }
      ]
    },
    {
      "cell_type": "markdown",
      "source": [
        "#Diccionarios"
      ],
      "metadata": {
        "id": "KdPvJS_LbyFk"
      }
    },
    {
      "cell_type": "markdown",
      "source": [
        "Un diccionario tiene un elemento o valor que etá asociado a un key ek cual es un index por etiqueta\n",
        "\n",
        "Para crear un diccionario utilizamos brackets {}, cada key y valor son separados por una coma, deben ser inmutales y únicos\n",
        "\n",
        "En el siguiente ejercicio el nombre del álbum es el key, y el valor es la fecha de lanzamiento\n"
      ],
      "metadata": {
        "id": "VKf2KZJBbzs-"
      }
    },
    {
      "cell_type": "code",
      "source": [
        "DICT={\"Thriller\":1982,\"Black in Black\":1980, \"The Dark Side of the Moon\":1973, \"The Bodyguard\":1992}\n",
        "DICT[\"Thriller\"]"
      ],
      "metadata": {
        "colab": {
          "base_uri": "https://localhost:8080/"
        },
        "id": "qAz2sUgdcj7T",
        "outputId": "7842ca55-0cc7-42c6-b6d4-1a6ed463df67"
      },
      "execution_count": 73,
      "outputs": [
        {
          "output_type": "execute_result",
          "data": {
            "text/plain": [
              "1982"
            ]
          },
          "metadata": {},
          "execution_count": 73
        }
      ]
    },
    {
      "cell_type": "markdown",
      "source": [
        "Podemos agregar nuevos elementos con la siguiente forma y también borrarlos"
      ],
      "metadata": {
        "id": "8pl6vzy6dLjs"
      }
    },
    {
      "cell_type": "code",
      "source": [
        "DICT={\"Thriller\":1982,\"Black in Black\":1980, \"The Dark Side of the Moon\":1973, \"The Bodyguard\":1992}\n",
        "DICT[\"Thriller\"]\n",
        "DICT['Graduation']=\"2007\"\n",
        "print(DICT)\n",
        "del(DICT[\"Thriller\"])\n",
        "print(DICT)\n",
        "\"The Bodyguard\" in DICT\n",
        "print(DICT.keys())\n",
        "print(DICT.values())"
      ],
      "metadata": {
        "colab": {
          "base_uri": "https://localhost:8080/"
        },
        "id": "ipUcEOuVcEJV",
        "outputId": "e47c34ca-9b84-49f8-9c86-0cedfb03234c"
      },
      "execution_count": 79,
      "outputs": [
        {
          "output_type": "stream",
          "name": "stdout",
          "text": [
            "{'Thriller': 1982, 'Black in Black': 1980, 'The Dark Side of the Moon': 1973, 'The Bodyguard': 1992, 'Graduation': '2007'}\n",
            "{'Black in Black': 1980, 'The Dark Side of the Moon': 1973, 'The Bodyguard': 1992, 'Graduation': '2007'}\n",
            "dict_keys(['Black in Black', 'The Dark Side of the Moon', 'The Bodyguard', 'Graduation'])\n",
            "dict_values([1980, 1973, 1992, '2007'])\n"
          ]
        }
      ]
    },
    {
      "cell_type": "code",
      "source": [
        "Dict={\"A\":1,\"B\":\"2\",\"C\":[3,3,3],\"D\":(4,4,4),'E':5,'F':6}\n",
        "Dict[\"D\"]"
      ],
      "metadata": {
        "colab": {
          "base_uri": "https://localhost:8080/"
        },
        "id": "9mAAfjPQeDra",
        "outputId": "ac5b010a-abad-4e52-c5b0-a333e9da2d1c"
      },
      "execution_count": 82,
      "outputs": [
        {
          "output_type": "execute_result",
          "data": {
            "text/plain": [
              "(4, 4, 4)"
            ]
          },
          "metadata": {},
          "execution_count": 82
        }
      ]
    }
  ],
  "metadata": {
    "colab": {
      "provenance": [],
      "authorship_tag": "ABX9TyMPaMxUFFgf+el4dk7CD4tf",
      "include_colab_link": true
    },
    "kernelspec": {
      "display_name": "Python 3",
      "name": "python3"
    },
    "language_info": {
      "name": "python"
    }
  },
  "nbformat": 4,
  "nbformat_minor": 0
}